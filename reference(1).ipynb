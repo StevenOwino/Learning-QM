{
 "cells": [
  {
   "cell_type": "code",
   "execution_count": 1,
   "metadata": {},
   "outputs": [],
   "source": [
    "2/0"
   ]
  },
  {
   "cell_type": "markdown",
   "metadata": {},
   "source": [
    "If (a) $\\neq$ 0, there is no rational number($\\mathbb Q$), where (b) $\\times$ 0 = (a), can be fulfilled."
   ]
  },
  {
   "cell_type": "markdown",
   "metadata": {},
   "source": [
    "**Math**"
   ]
  },
  {
   "cell_type": "markdown",
   "metadata": {},
   "source": [
    "$\\bullet$"
   ]
  },
  {
   "cell_type": "markdown",
   "metadata": {},
   "source": [
    "$\\frac{\\frac{\\sin a}{\\cos a} + \\frac{\\sin b}{\\cos b}}{1 - \\frac{\\sin a \\sin b}{\\cos a \\cos b}}$"
   ]
  },
  {
   "cell_type": "markdown",
   "metadata": {},
   "source": [
    "$\\frac{5 - \\frac{1}{x}}{4}$"
   ]
  },
  {
   "cell_type": "markdown",
   "metadata": {},
   "source": [
    "$\\hbar$"
   ]
  },
  {
   "cell_type": "markdown",
   "metadata": {},
   "source": [
    "$\\bigstar$ **Author: Anonymous**"
   ]
  },
  {
   "cell_type": "markdown",
   "metadata": {},
   "source": [
    "# Mathematical Physics"
   ]
  },
  {
   "cell_type": "markdown",
   "metadata": {},
   "source": [
    "$\\Diamond$ **Useful Formulae:** "
   ]
  },
  {
   "cell_type": "markdown",
   "metadata": {},
   "source": [
    "### Constants:"
   ]
  },
  {
   "cell_type": "markdown",
   "metadata": {},
   "source": [
    "$\\hbar$*c $\\simeq$197.3 MeV $ \\cdot$ fm,"
   ]
  },
  {
   "cell_type": "markdown",
   "metadata": {},
   "source": [
    "$\\frac{e^2}{\\hbar c}$ $\\simeq$ $\\frac{1}{137}$, $m_e$ $c^2$ $\\simeq$ 0.511 MeV, $m_p$ $c^2$ $\\simeq$ 9.38 MeV.  "
   ]
  },
  {
   "cell_type": "markdown",
   "metadata": {},
   "source": [
    "$\\bullet$  1### Relativity: p = mv$\\gamma$, E = $\\gamma$ m $c^2$, $E^2$ = $p^2$ * $c^2$ + $m^2$ * $c^4$, $\\gamma$ = $\\frac{1}{\\sqrt1 - \\beta^2}$,  $\\beta$ = $\\frac{v}{c}$.  "
   ]
  },
  {
   "cell_type": "markdown",
   "metadata": {},
   "source": [
    "$\\bullet$ 2### de Broglie: $\\lambda$ = $\\frac{h}{p}$,  Compton: $\\lambda_C$ = $\\frac{h}{mc}$,  $\\hat{p}$ = $\\frac{h}{i}$ $\\frac{\\partial}{\\partial{x}}$,  $\\hat{\\mathbf p}$ = $\\frac{\\hbar}{i}$ $\\nabla$,  $[\\hat{x_i},\\hat{p_j}]$ = $i\\hbar \\delta_{ij}$,  \n",
    "$[\\hat{p_i},f(\\hat{\\mathbf x})]$ = $\\frac{\\hbar}{i}$ $\\frac{\\partial{f}} {\\partial{x_i}}$."
   ]
  },
  {
   "cell_type": "markdown",
   "metadata": {},
   "source": [
    "$\\bullet$ 3### Schr$\\ddot{o}$dinger equation: i $\\hbar$ $\\frac{\\partial \\psi}{\\partial(t)}$ (x,t) =  $(\\frac{- i \\hbar^2}{2 m}$ $\\nabla^2$ + V (x,t)) $\\psi (x,t)$,  $\\frac{\\partial}{\\partial(t)}$ $\\rho (x,t)$ + $\\nabla$ $\\cdot$ $\\mathbf J$ (x,t)  = 0,  $\\rho$ (x,t) = | $\\Psi (x,t) |^2$,  $\\mathbf J $ (x,t) = $\\frac{\\hbar} {m}$ Im $[\\psi^*$ $\\nabla \\psi]$. "
   ]
  },
  {
   "cell_type": "markdown",
   "metadata": {},
   "source": [
    "$\\bullet$ 4### Fourier transforms: $\\psi x$ = $\\frac{1}{\\sqrt2 \\pi}$ $\\int{dk}$ $\\phi$ (k) $e^{ikx}$, $\\Phi (k)$ = $\\frac{1}{\\sqrt2\\pi}$ $\\int{dx}$ $\\Psi$ (x) $e^{-ikx}$, $\\int${dx}| $\\Psi (x) |^2$ = $\\int {dk}$ | $\\Phi k |^2$.  \n",
    "$\\frac{1}{2\\pi}$ $\\int_ {-\\infty}^{\\infty}$ $e^{ikx}{dx}$ = $\\delta(k)$, $\\frac{1}{(2\\pi)^3}$ $\\int$ $e^{ik}$ $\\cdot$ ${x}(d)^3{x}$ = $\\delta^{(3)}(k)$.  \n",
    "       $\\int_{-\\infty}^{\\infty}$ dx  $\\exp$ $(-{ax}^2 + bx)$ = $\\frac{\\sqrt \\pi}{\\sqrt a}$ $\\exp (\\frac{b^2}{4a}$), when $\\Re$(a) > 0.  "
   ]
  },
  {
   "cell_type": "markdown",
   "metadata": {},
   "source": [
    "$\\bullet$ 5### expectation value: $\\langle\\hat{\\mathbf Q} \\rangle$ $\\equiv$ $\\langle\\psi, \\hat{\\mathbf Q}\\psi \\rangle$, $i \\hbar \\frac{d}{dt} \\langle \\hat{\\mathbf Q \\rangle}$ = $\\langle[ \\hat{\\mathbf Q},{\\mathbf H}] \\rangle$, $\\hat{\\mathbf Q}$ time idependent. "
   ]
  },
  {
   "cell_type": "markdown",
   "metadata": {},
   "source": [
    "$\\bullet$ 6### uncertainty: $\\vartriangle{A} \\equiv || (\\hat{A} - \\langle \\hat{A} \\rangle \\mathbb{1}) \\psi ||$,  \n",
    "$(\\vartriangle{A})^2$ = $\\langle \\hat{A}^2 \\rangle - \\langle \\hat{A} \\rangle^2 \\geq$ 0.  \n",
    "$\\vartriangle{A} \\vartriangle{B}$ $\\geq$ | $\\langle \\psi$ $\\mid$ $\\frac{1}{2i}$ $[\\hat{A},\\hat{B}]$ $\\mid$ $\\psi$ $\\rangle$ |,"
   ]
  },
  {
   "cell_type": "markdown",
   "metadata": {},
   "source": [
    "$\\bullet$ 7### saturarion: $(\\hat{B} - \\langle \\hat{B} \\rangle \\mathbb1) | \\psi \\rangle$ = i $\\lambda (\\hat{A} - \\langle \\hat{A} \\mathbb1) | \\psi \\rangle$, $\\lambda \\in \\Re$.  \n",
    "$\\vartriangle{x} \\vartriangle{p} \\geq \\frac{\\hbar}{2}$. For $\\psi$ ~ $\\exp(- \\frac{1}{4} \\frac{x^2}{\\vartriangle^2})$,  \n",
    "$\\vartriangle{x} = \\vartriangle$ and $\\vartriangle{p} = \\frac{\\hbar}{2 \\vartriangle}$.  \n",
    "$\\vartriangle{H} \\vartriangle{t} \\geq \\frac{\\hbar}{2}$, $\\vartriangle{t}$ $\\equiv$ $\\frac{\\vartriangle Q } { |d \\langle Q \\rangle / {dt} |}$.  "
   ]
  },
  {
   "cell_type": "markdown",
   "metadata": {},
   "source": [
    "$\\bullet$ 8### stationary state: $\\psi${x,t} = $\\psi (x)e^\\frac{-iEt} {\\hbar}$, $- \\frac{\\hbar^2}{2m} \\nabla^2 \\psi(x) + \\mathbf V(\\mathbf x) \\Psi(\\mathbf x) = E \\psi(\\mathbf x)$.   "
   ]
  },
  {
   "cell_type": "markdown",
   "metadata": {},
   "source": [
    "$\\bullet$ 9### variational principle: $E_{gs} \\leq \\langle \\psi, \\hat{H} \\psi \\rangle$, for all normalized $\\psi$.   "
   ]
  },
  {
   "cell_type": "markdown",
   "metadata": {},
   "source": [
    "$\\bullet$ 10### Hellmann-Feynmann: $\\hat{H}$ $(\\lambda)$ $\\psi_n$ $(\\lambda)$ = $E_n$ $(\\lambda)$ $\\psi_n$ $(\\lambda)$ $\\longrightarrow$ $\\frac{dE_n (\\lambda) } {d \\lambda} $ = $\\langle \\psi_n (\\lambda), \\frac{d \\hat{\\mathbf H(\\lambda)}} {d \\lambda} \\Psi_n(\\lambda) \\rangle$.  "
   ]
  },
  {
   "cell_type": "markdown",
   "metadata": {},
   "source": [
    "$\\bullet$ 11### virial theorem: one dimension: $\\langle$ $\\frac{\\hat{p}^2} {2m} $  $\\rangle $ = $\\frac{1}{2}$ $\\langle \\hat{x}$  $\\frac{dV}{dx}$ $\\rangle$\\"
   ]
  },
  {
   "cell_type": "markdown",
   "metadata": {},
   "source": [
    "$\\bullet$ 12### central potential: $\\langle \\frac{\\hat{p}^2}{2m} \\rangle$ = $\\frac{1}{2}$ $\\langle{r}$ $\\frac{\\partial{V}}{\\partial{r}} \\rangle $.  "
   ]
  },
  {
   "cell_type": "code",
   "execution_count": null,
   "metadata": {},
   "outputs": [],
   "source": []
  },
  {
   "cell_type": "markdown",
   "metadata": {},
   "source": [
    "$\\bullet$ 13### commutator identities:  \n",
    "[A,BC] = [A,B]C + B[A,C],  \n",
    "$e^A Be^{-A}$ = $e^{ad_A}B $ = B + [A,B] + $\\frac{1}{2} [A,[A,B]] + \\frac{1}{3!} [A,[A,[A,B]]] +...$,  \n",
    "$e^A Be^{-A}$ = B + [A,B], if  [A,[A,B]] = 0,  \n",
    "$[B,e^A]$ = [$B,A]e^A$, if [ [A,[A,B]] = 0,  \n",
    "$e^{A + B}$ = $e^A e^B e^{-\\frac{1}{2}|A,B|}$ = $e^B e^A e^{\\frac{1}{2}[A,B]}$ if [[A,B],A] = [[A,B],B] = 0.  \n"
   ]
  },
  {
   "cell_type": "markdown",
   "metadata": {},
   "source": [
    "$\\bullet$ 14### matrix exponential: $e^{i M \\theta}$ = $\\mathbb 1 \\cos \\theta$ + i M $\\sin \\theta$,  "
   ]
  },
  {
   "cell_type": "markdown",
   "metadata": {},
   "source": [
    "$\\bullet$ 15### index manipulation: $\\mathbf a \\cdot \\mathbf b$ = $a_i b_i$, $\\delta_{ij} B_j$ = $B_i$, $\\delta_{ii}$ = 3, ${(\\mathbf a \\times \\mathbf b)}_i$ = $\\epsilon_{ijk} \\mathbf a_j \\mathbf b_k$, $\\epsilon$ 123 = 1 .   \n",
    "$\\epsilon_{ijk} \\epsilon_{ipq}$ = $\\delta_{jp} \\delta_{kq}$ - $\\delta_{jp} \\delta_{kp}$,  \n",
    "$\\epsilon_{ijk} \\epsilon_{ijq}$ = 2 $\\delta_{kq}$.  "
   ]
  },
  {
   "cell_type": "markdown",
   "metadata": {},
   "source": [
    "$\\bullet$ 16### linear algebra: matrix representation in the basis $(v_{1,...,}v_n)$: $Tv_i$ = $\\sum_k $ $T_{kj}$ $v_k$.  "
   ]
  },
  {
   "cell_type": "markdown",
   "metadata": {},
   "source": [
    "$\\bullet$ 17### basis change: $u_k$ = $\\sum_j A_{jk}v_j$, T({u}) = $A^{-1} T ({v}) A$.  "
   ]
  },
  {
   "cell_type": "markdown",
   "metadata": {},
   "source": [
    "$\\bullet$ 18### inner product: $\\langle{v,v} \\rangle$ $\\geq$ 0, for all v, $\\langle{v,v} \\rangle$ = 0 if and only if v = 0, $\\langle{u,v} \\rangle$ = $\\langle{vu} \\rangle^*$.  "
   ]
  },
  {
   "cell_type": "markdown",
   "metadata": {},
   "source": [
    "$\\bullet$ 19### Schwarz inequality: |(u,v)| $\\leq$ $ ||u ||$ $|| v ||$.  "
   ]
  },
  {
   "cell_type": "markdown",
   "metadata": {},
   "source": [
    "$\\bullet$ 20### Complex vector space: $\\langle v,Tv \\rangle$ = 0, $\\forall$ $\\nu$ $\\in$ V $\\longrightarrow$ T = 0.  "
   ]
  },
  {
   "cell_type": "markdown",
   "metadata": {},
   "source": [
    "$\\bullet$ 21### adjoint: $\\langle{u,Tv} \\rangle$ = $\\langle T^\\dagger{u,v} \\rangle$ , $(T^\\dagger)^\\dagger$ = T, $(ST)^\\dagger$ = $T^\\dagger S^\\dagger$.   "
   ]
  },
  {
   "cell_type": "markdown",
   "metadata": {},
   "source": [
    "$\\bullet$ 22### Hermitian operator T: $T^\\dagger$ = T, "
   ]
  },
  {
   "cell_type": "markdown",
   "metadata": {},
   "source": [
    "$\\bullet$ 23### unitary operator U: $U^\\dagger U$ = $UU^\\dagger$ = $\\mathbb1$.  "
   ]
  },
  {
   "cell_type": "markdown",
   "metadata": {},
   "source": [
    "$\\bullet$ 24### orthogonal projector: $P_u$: V $\\longrightarrow$ U,  \n",
    "${P_uP_u}$ = $P_u$,  \n",
    "$P_u^\\dagger$ = $P_u$,  \n",
    "$ V $ = $ range $ $P_u$ $\\oplus$ null $P_u$.  "
   ]
  },
  {
   "cell_type": "markdown",
   "metadata": {},
   "source": [
    "$\\bullet$ 25### bra-kets: $\\langle$ u|v $\\rangle$ $\\equiv$ $\\langle$ { u,v} $\\rangle$, | Tv $\\rangle$ $\\equiv$ T|v $\\rangle$, $\\langle$ Tv | = $\\langle v | T^\\dagger$, $\\langle u | T^\\dagger$ v $\\rangle$ = $\\langle Tu | v \\rangle$.  \n",
    "$| \\alpha_1 v_1$ + $\\alpha_2 v_2 \\rangle$ = $\\alpha_1 | v_1 \\rangle$ + $\\alpha_2 | v_2 \\rangle$,   \n",
    "$\\langle \\alpha_1 v_1$ + $\\alpha_2 v_2 | $ = $\\alpha_1^* \\langle v_1 | $ + $\\alpha_2^* \\langle v_2 | $.  \n",
    "T = | u $\\rangle$ $\\langle w$ | $\\longrightarrow$ $T^\\dagger$ = | w $\\rangle$ $\\langle$ u |,  \n",
    "**tr**T  = $\\langle \\mathbf w | \\mathbf u \\rangle$.      "
   ]
  },
  {
   "cell_type": "markdown",
   "metadata": {},
   "source": [
    "$\\bullet$ 26### orthonormal basis $|i\\rangle$: $\\langle i|j \\rangle$ = $\\delta_{ij}$, $\\mathbb1$  = $\\sum_i|i \\rangle \\langle i |$.  \n",
    "$T_{ij}$ = $\\langle i|T|j \\rangle$ $\\longleftrightarrow$ T = $\\sum_{i,j} T_{ij}$ |i$\\rangle \\langle$ j|, $\\langle i | T^\\dagger | j \\rangle^*$, $(T^\\dagger)_{ij}$ = $(T_{ji})^*$.  \n",
    "$[M,M^\\dagger]$ = 0 $\\longleftrightarrow$ M is unitarily diagonizable.  "
   ]
  },
  {
   "cell_type": "markdown",
   "metadata": {},
   "source": [
    "$\\bullet$ 27### spectral theorem: $T^\\dagger$ = T $\\longrightarrow$ T = $\\sum_k \\lambda_k P_k$, $P^\\dagger_k$ = $P_k$, $P_k P_l$ = $\\delta_{kl} P_l$, $\\sum_k P_k$ = $\\mathbb 1$.  "
   ]
  },
  {
   "cell_type": "markdown",
   "metadata": {},
   "source": [
    "$\\bullet$ 28### Schr$\\ddot{o}$dinger picture: |$\\psi,t \\rangle$ = $U(t,t_0) | \\psi,t_0 \\rangle$, $\\hat{H}(t)$ = $i \\hbar \\frac{\\partial \\mathcal U(t, t_0)}{\\partial t} \\mathcal U(t_0,t)$,          \n",
    "U(t,0) = $\\exp( \\frac{-i \\hat{\\mathbf H} t} {\\hbar} )$, for $\\hat{H}$ time independent.  "
   ]
  },
  {
   "cell_type": "markdown",
   "metadata": {},
   "source": [
    "$\\bullet$ 29### Heisenberg picture: $\\hat{A}_H(t)$ $\\equiv$ $U^\\dagger(t,0) \\hat{A}_S U(t,0)$, $i \\hbar \\frac{d \\hat{A}_H(t)}{dt}$ = $[\\hat{A_\\mathbf H}(t)$, $\\hat{H}_H(t)]$ + $i \\hbar$ $\\frac{\\partial \\hat{A}_H(t)}{dt}$.  "
   ]
  },
  {
   "cell_type": "markdown",
   "metadata": {},
   "source": [
    "$\\bullet$ 30### harmonic oscillator: $\\hat{H}$ = $\\frac{1}{2m} \\hat{p}^2$ + $\\frac{1}{2}m \\omega^2 \\hat{x}^2$ = $ \\hbar \\omega(\\hat{N}$ + $\\frac{1}{2})$, $\\hat{N}$ = $\\hat{a}^\\dagger \\hat{a}$,  \n",
    "$\\hat{a}$ = $\\frac{1}{\\sqrt{2}L_0}$ $(\\hat{x}$ + $\\frac{i \\hat{p}}{m \\omega})$, $\\hat{a}^\\dagger$ = $\\frac{1}{\\sqrt{2}L_0}(\\hat{x} - \\frac{i \\hat{p}}{m \\omega})$, $L^2_0$ = $\\frac{\\hbar}{m \\omega}$,  \n",
    "$\\hat{x}$ = $\\frac{L_0}{\\sqrt{2}}(\\hat{a} + \\hat{a}^\\dagger)$, $\\hat{p}$ = $\\frac{i}{\\sqrt{2}} \\frac{\\hbar}{L_0}(\\hat{a}^\\dagger - \\hat{a})$,  \n",
    "$[\\hat{a}, \\hat{a}^\\dagger]$ = 1, $[\\hat{N}, \\hat{a}]$ = $\\hat{-a}$,  \n",
    "$\\hat{a} \\varphi_0$ = 0, $\\varphi_0(x)$ = $N_0 \\exp(- \\frac{1}{2} \\frac{x^2}{L^2_0})$, $N^2_0$ = $\\frac{1}{\\sqrt{\\pi}L_0}$,  \n",
    "$\\varphi_n$ = $\\frac{1}{\\sqrt{n!}} (a^\\dagger)^n \\varphi0 $, $\\hat{H} \\varphi_n$ = $ \\hbar \\omega( n + \\frac{1}{2}) \\varphi_n$, $ \\hat{\\mathbf N} \\varphi_n$ = $n \\varphi_n$,  $ \\langle \\varphi{m}, \\varphi{n} \\rangle$ = $\\delta_{mn}$,  \n",
    "$\\hat{a}^\\dagger \\varphi_n$ = $\\sqrt{n + 1} \\varphi_n + 1$, $\\hat{a} \\varphi_n$ = $\\sqrt{n} \\varphi_{n - 1}$,  \n",
    "$\\hat{x}_H(t)$ = $\\hat{x} \\cos \\omega{t} + \\frac{\\hat{p}}{m \\omega} \\sin{\\omega{t}}$,  \n",
    "$\\hat{p}_H(t)$ = $\\hat{p} \\cos \\omega{t} - m \\omega \\hat{x} \\sin \\omega{t}$.   "
   ]
  },
  {
   "cell_type": "markdown",
   "metadata": {},
   "source": [
    "$\\bullet$ 31### coherent states: $|\\alpha \\rangle$ $\\equiv$ $e^{\\alpha{a}^\\dagger - \\alpha^*{a}}|0 \\rangle$, $\\alpha$ = $\\frac{\\langle \\hat{x} \\rangle} {\\sqrt2{L_0}}$ + $i \\frac{\\langle \\hat{p} \\rangle L_0} {\\sqrt2 \\hbar}$ $\\in$ $\\mathbb{c}$.  \n",
    "$\\hat{a}| \\alpha \\rangle$ = $\\alpha| \\alpha \\rangle$, |$\\alpha \\rangle$ = $e^{-{\\frac{1}{2}} | \\alpha|^2} e^\\alpha a^\\dagger |0 \\rangle$, $| \\alpha, t \\rangle$ = $e^{-i \\omega t/2}|e^{-i \\omega t} \\alpha \\rangle$.  "
   ]
  },
  {
   "cell_type": "markdown",
   "metadata": {},
   "source": [
    "$\\bullet$ 32### orbital angular momentum: $\\hat{L}_x$ = $\\hat{y} \\hat{p}_z - \\hat{z} \\hat{p}_y$, $\\hat{L}_y$ = $\\hat{z} \\hat{p}_x - \\hat{x} \\hat{p}_z$, $\\hat{L}_z$ = $\\hat{x} \\hat{p}_y - \\hat{y} \\hat{p}_x$,  \n",
    "$[\\hat{L}_x, \\hat{L}_y]$ = $i \\hbar \\hat{L}_z$, $[\\hat{L}_y, \\hat{L}_z]$ = $i \\hbar \\hat{L}_x$, $[\\hat{L}_z, \\hat{L}_x]$ = $i \\hbar \\hat{L}_y$,  \n",
    "$\\hat{L}^2$ $\\equiv$ $\\hat{L}_x \\hat{L}_x + \\hat{L}_y \\hat{L}_y + \\hat{L}_z \\hat{L}_z$, $[\\hat{L}^2$, $\\hat{L}_i]$ = 0.  \n",
    "$\\nabla^2$ = $\\frac{\\mathbf 1} {r}$ $\\frac{\\partial^2}{\\partial \\mathbf r^2}$ $\\mathbf r$ - $\\frac{\\mathbf 1} {\\mathbf r^2}$ $\\frac{\\hat L^2} {\\hbar^2}$,  \n",
    "$\\hat{L}^2$ = $- \\hbar^2$ $(\\frac{\\partial^2}{\\partial \\theta^2}$ + $\\cot$ $\\theta$ $\\frac{\\partial}{\\partial \\theta}$ + $\\frac{1}{\\sin^2 \\theta}$ $\\frac{\\partial^2}{\\partial \\phi^2})$,  \n",
    "$\\hat{L}_z$ = $\\frac{\\hbar}{\\mathbb i}$ $\\frac{\\partial}{\\partial \\theta}$, $\\hat{L}_\\pm$ = $\\hbar e^{\\pm i \\phi}$ $(\\pm\\frac{\\partial}{\\partial \\theta}$ + i $\\cot \\theta$ $\\frac{\\partial}{\\partial \\theta})$.  \n",
    "$Y_{\\ell m}$ $(\\theta, \\phi)$ = $\\langle \\theta \\phi$ |  ${\\ell m}$ $\\rangle$ = $Y_{\\ell m}$ $(\\Omega)$ $\\equiv$ $\\mathcal N_{\\ell m}$ $P^m_\\ell$ $(\\cos$ $\\theta)$ $e^{i m \\theta}$.  \n",
    "$L_z Y_{\\ell m}$ = $\\hbar$ $\\mathbf m$ $\\mathbf Y_{\\ell m}$, $\\mathbf L^\\angle$ $Y_{\\ell m}$ = $\\hbar^\\angle$ $\\ell$ ( $\\ell + 1 )$ $Y_{\\ell m}$,  \n",
    "$\\int d \\Omega \\mathbf Y^*_{\\ell' m'} (\\Omega)$ = $\\delta_{\\ell' \\ell} \\delta_{m' m}$, $\\sum_{\\ell = 0}^\\infty \\sum_{m = - \\ell}^\\ell Y^*_{\\ell m} (\\Omega)$ = $\\delta$ $(\\cos\\theta - \\cos\\theta')$ $\\delta$ $(\\phi - \\phi')$.  \n",
    "$Y_{0,0}(\\theta, \\phi)$ = $\\frac{1} {\\sqrt{4 \\pi}}$, $Y_1$, $\\pm 1 (\\theta, \\phi)$ = $\\mp {\\sqrt \\frac{3}{8 \\pi}}$ $\\sin \\theta$ $e^{\\pm i \\phi}$, $Y_{1,0}$ $(\\theta, \\phi)$ = ${\\sqrt \\frac{3}{4 \\pi}}$ $\\cos$ $\\theta$.  "
   ]
  },
  {
   "cell_type": "markdown",
   "metadata": {},
   "source": [
    "$\\bullet$ 33### central potentials: $\\psi(r, \\theta, \\phi)$ = $\\frac{u(r)}{r}$ $Y_{\\ell m}(\\theta, \\phi)$,  \n",
    "$ (- {\\frac{\\hbar^2}{2m}}$ $ \\frac{d^2}{dr^2}$ + V(r) + $\\frac{\\hbar^2 \\ell (\\ell + 1)} {2mr^2}) u(r) $ = Eu(r), u(r) $\\approx$ $r^{\\ell + 1}$, as r $\\longrightarrow$ 0.  "
   ]
  },
  {
   "cell_type": "markdown",
   "metadata": {},
   "source": [
    "$\\bullet$ 34### spin one-half: $\\hat{H}$ = $- \\mu \\cdot B$, $\\hat{\\mu}$ = $ g \\frac{e \\hbar}{2mc}$ $\\frac{1}{\\hbar} \\hat{S}$, $\\mu_B$ = $\\frac{e \\hbar}{2m_eC}$, $ \\hat{\\mu_e}$ = -2 $ \\mu_B$ $\\frac{\\hat{\\mathbf S}}{\\hbar}$.                          \n",
    "$| 1 \\rangle$ $\\equiv$ $| Z; + \\rangle$ = $| + \\rangle$ = $\\begin{pmatrix}1\\cr0\\cr\\end{pmatrix}$, $|2 \\rangle$ $\\equiv$ $|Z; - \\rangle$ = $| - \\rangle$ = $\\begin{pmatrix}0\\cr1\\cr\\end{pmatrix}$,  \n",
    "$\\hat{S}_i$ = $\\frac{\\hbar}{2} \\sigma_i$, $\\sigma_x$ = $\\begin{pmatrix}0 & 1\\cr 1 & 0\\cr\\end{pmatrix}$, $\\sigma_y$ = $\\begin{pmatrix}0 & -1\\cr i & 0\\cr\\end{pmatrix}$, $\\sigma_z$ = $\\begin{pmatrix}1 & 0\\cr 0 & -1\\cr\\end{pmatrix}$.  \n",
    "$[\\sigma_i, \\sigma_j]$ = $2i \\epsilon_{ijk} \\sigma_k$, $[\\hat{S_i}, \\hat{S_j}]$ = $i \\hbar \\epsilon_{ijk} \\hat{S_k}$,  \n",
    "$\\sigma_i \\sigma_j$ = $\\delta_{ij} \\mathbb1 + i \\epsilon_{ijk} \\sigma_k$, $(\\sigma \\cdot \\mathbf a) (\\sigma \\cdot \\mathbf b)$ = $\\mathbf a \\cdot \\mathbf b \\mathbb 1 + i \\sigma \\cdot (\\mathbf a \\times \\mathbf b)$,  \n",
    "$e^{i \\mathbf a \\cdot \\sigma}$ = $\\mathbb1 \\cos \\mathbf a + i {\\mathbf \\sigma}  \\cdot  \\hat{\\mathbf a} \\sin a$, $ \\mathbf a$ = $\\hat{\\mathbf a} a$, a = $|\\mathbf a|$.  \n",
    "$\\hat{S_n}$ $\\equiv$ $\\mathbf n \\cdot \\hat{S}$ = $\\frac{\\hbar}{2} \\mathbf n \\cdot \\sigma$, $\\hat{S_n} | \\mathbf n; \\pm \\rangle$ =  $\\pm \\frac{\\hbar}{2} | \\mathbf n; \\pm \\rangle$, $| \\mathbf n \\rangle$ $\\equiv$ | $\\mathbf n ; + \\rangle$, $\\langle \\mathbf n |  \\hat{\\mathbf S} | \\mathbf n \\rangle$ = $\\frac{\\hbar}{2} \\mathbf n$,  \n",
    "$ | \\mathbf n; _ \\rangle$ = $\\cos \\frac{\\theta}{2} | + \\rangle + \\sin \\frac{\\theta}{2} \\mathbf{e}^{\\mathbf{i} \\theta} | - \\rangle$,  \n",
    "$ | \\mathbf n; - \\rangle$ = $ - \\sin \\frac{\\theta}{2} \\mathbf{e}^- {\\mathbf{i} \\theta} | + \\rangle$ + $\\cos \\frac{\\theta}{2} | - \\rangle$,  \n",
    "$ \\hat{R_n} (\\alpha)$ $\\equiv$ $ \\exp(- \\frac{i}{\\hbar} \\alpha \\hat{S_n})$, $ \\hat{R_n} (\\alpha) | \\mathbf n' \\rangle$ = $ | n\" \\rangle$, with $ \\mathbf n\"$ = $ \\mathcal{R_\\mathbf n} (\\alpha) \\mathbf n'$,  \n",
    "$ \\hat{R_n}(\\alpha) \\hat{\\mathbf S} \\hat{R_n}(\\alpha)$ = $ \\mathcal{R_n}(\\alpha) \\hat{\\mathbf S}$.  "
   ]
  },
  {
   "cell_type": "markdown",
   "metadata": {},
   "source": [
    "$\\bullet$ 35### spin precession: $ \\hat{H}$ = $ {\\mathbf \\omega_L} \\cdot \\hat{S}$, $ {\\mathbf \\omega_L}$ = $ - \\gamma{\\mathbf B}$, $ \\hat{\\mathbf \\mu}$ = $ \\gamma \\hat{\\mathbf S}$.   "
   ]
  },
  {
   "cell_type": "markdown",
   "metadata": {},
   "source": [
    "$\\bullet$ 36### general angular momentum: $ [ \\hat{J_i}, \\hat{J_j}]$ = $ i \\hbar \\epsilon_{ijk} \\hat{\\mathbf J_k}$ $\\longleftrightarrow$ $\\hat{\\mathbf J} \\times \\hat{\\mathbf J}$ = $ i \\hbar \\hat{\\mathbf J}$, $ [\\hat{\\mathbf J^2}, \\hat{\\mathbf J_i}] $ = 0.  \n",
    "$ \\hat{\\mathbf J_ \\pm}$ = $ \\hat{\\mathbf J_x} \\pm i \\hat{\\mathbf J_y}$, $ \\hat{(J_ \\pm)^\\dagger}$ = $\\hat{\\mathbf J_\\mp}$, $\\hat{\\mathbf J_x}$ = $\\frac{1}{2} (\\hat{\\mathbf J_+} + \\hat{\\mathbf J_-})$, $\\hat{\\mathbf J_y}$ = $\\frac{1}{2i}(\\hat{\\mathbf J_+} - \\hat{\\mathbf J_-})$,  \n",
    "$ [\\hat{\\mathbf J_z}, \\hat{\\mathbf J_ \\pm}]$ = $ \\pm \\hbar \\hat{\\mathbf J_ \\pm}$, $[\\hat{\\mathbf J_+}, \\hat{\\mathbf J_-}]$ = $2 \\hbar \\hat{\\mathbf J_z}$, $[ \\hat{\\mathbf J^2}, \\hat{\\mathbf J_\\pm}]$ = 0,  \n",
    "$\\hat{\\mathbf J^2}$ = $\\hat{\\mathbf J_+} \\hat{\\mathbf J_-}$ + $\\hat{\\mathbf J^2_z}$ - $\\hbar$ $\\hat{\\mathbf J_z}$ = $\\hat{\\mathbf J_-} \\hat{\\mathbf J_+}$ + $\\hat{\\mathbf J^2_z}$ + $\\hbar$ $\\hat{\\mathbf J_z}$.  \n",
    "$\\hat{\\mathbf J^2} |{\\mathbf {jm}} \\rangle$ = $\\hbar^2 \\mathbf j(\\mathbf j + 1) | \\mathbf {jm} \\rangle$ = $ \\hbar \\mathbf m | \\mathbf {jm} \\rangle$,  \n",
    "$ \\mathbf m$ = $ - \\mathbf j,...,\\mathbf j$                             \n",
    "$ \\hat{\\mathbf j_\\pm} | {\\mathbf jm} \\rangle$ = $\\hbar$ $\\sqrt{{{\\mathbf j} {(\\mathbf j + 1)}} - {\\mathbf m}{(\\mathbf m \\pm 1)}}$ $ | \\mathbf j, \\mathbf m \\pm 1 \\rangle$.  \n",
    "$\\hat{R^\\dagger_n}(\\alpha) \\hat{\\mathbf J} \\hat{R_n}(\\alpha)$ = $\\mathcal R_n (\\alpha) \\hat{\\mathbf J}$, $\\hat{\\mathbf R_n}(\\alpha)$ = $e^{ - i \\frac{\\alpha}{\\hbar} {\\mathbf n} \\cdot {\\mathbf J}}$.  "
   ]
  },
  {
   "cell_type": "markdown",
   "metadata": {},
   "source": [
    "$\\bullet$ 37### addition of angular momentum: $\\hat{\\mathbf J}$ = $\\hat{\\mathbf J_1} + \\hat{\\mathbf J_2}$.  "
   ]
  },
  {
   "cell_type": "markdown",
   "metadata": {},
   "source": [
    "$\\bullet$ 38### uncoupled basis: $ | j_1 j_2; \\mathbf m_1 \\mathbf m_2 \\rangle $ $ CSCO : (\\hat{\\mathbf J^2_1}, \\hat{\\mathbf J^2_2}, \\hat J_{1z}, \\hat{j_{2z}})$,   "
   ]
  },
  {
   "cell_type": "markdown",
   "metadata": {},
   "source": [
    "$\\bullet$ 39### coupled basis:$ | {j_1} {j_2 ;} \\mathbf{jm} \\rangle$ CSCO : $ (\\hat{\\mathbf J^2_1}, \\hat{J^2_2}, \\hat{\\mathbf j^2}, \\hat{j_z})$.  \n",
    "$ j_1 \\otimes j_2 $ = $ (j_1 + j_2) \\oplus  (j_1 + j_2 - 1)\\oplus...\\oplus |j_1 - j_2)$.  \n",
    "$ | \\mathbf j_1 \\mathbf j_2; \\mathbf{jm} \\rangle$ = $ \\sum_{\\mathbf m_1 + \\mathbf m_2 = \\mathbf m}$ $ | {\\mathbf j_1}{\\mathbf j_2}; {\\mathbf m_1}{\\mathbf m_2} \\rangle$ $ \\langle{\\mathbf j_1 \\mathbf j_2}; {\\mathbf m_1 \\mathbf m_2} | {\\mathbf j_1 \\mathbf j_2}; \\mathbf{jm} \\rangle$. [Clebsch-Gordan coefficient]  \n",
    "$ \\hat{\\mathbf J_1} \\cdot \\hat{\\mathbf J_2}$ = $\\frac{1}{2}$ $( \\hat{\\mathit J_{1 +}} \\hat{\\mathit J_{2 -}} + \\hat{\\mathit J_{1 -}} \\hat{\\mathit J_{2 +}})$ + $ \\hat{\\mathit J_{1z}}$ $\\hat{\\mathit J_{2z}}$ = $ \\frac{1}{2}$ $(\\hat{\\mathbf J^2} - \\hat{\\mathbf J^2_1} - \\hat{\\mathbf J^2_2})$.  "
   ]
  },
  {
   "cell_type": "markdown",
   "metadata": {},
   "source": [
    "$\\bullet$ 40### hydrogen atom: $ \\hat{H}$ = $ \\frac{\\hat{\\mathbf p^2}} {2 {\\mathbf m}}$ - $ \\frac{\\mathit Z e^2}{r}$, $ \\mathit Z$ = 1 for hydrogen.  \n",
    "$ \\mathit E_n$ = $ - \\frac{\\mathit {Z^2 e^2}}{2a_0} \\frac{1}{\\mathbf n^2}$, $a_0$ = $ \\frac{\\hbar^2}{me^2}$ $ \\simeq$ 52.9 pm, $ \\frac{e^2}{2a_0}$ = $ \\frac{1}{2} \\mathbf {mc^2} \\alpha^2$ $ \\equiv$ Ry $ \\simeq$ 13.6 eV.  \n",
    "$ \\psi_{n \\ell m} (\\mathbf X)$ = $ \\mathcal N ( \\frac{r}{a_0})^\\ell$ $ ( polynomial \\in {\\frac{r}{a_0}} of degree [{\\mathbf {n} - (\\ell + 1)}])$ $ e^{- \\frac{\\mathit Zr} {\\mathbf {n a_0}}}$ $\\mathbf Y_{\\ell m}$ $(\\theta, \\phi)$,  \n",
    "$ \\psi_{100} ( \\mathbf r, \\theta, \\phi)$ = $ {\\sqrt{\\frac{\\mathit Z^3}{\\pi a^3_0}} e^-{\\mathit Z/a_0}}$.  \n",
    "$ \\mathit Z$ = 1: $ \\langle r \\rangle$ = $ \\frac{1}{2} a_0(3n^2 - \\ell(\\ell + 1))$, $ \\langle \\frac{1}{r} \\rangle$ = $ \\frac{1}{a_0n^2}$,  \n",
    "$ \\langle \\frac{1}{r^2} \\rangle$ = $ \\frac{1}{a^2_0 n^3 (\\ell + \\frac{1}{2})}$, $ \\langle \\frac{1}{r^3} \\rangle$ = $ \\frac{1}{\\mathbf {a^3 n^3} \\ell (\\ell + \\frac{1}{2}) (\\ell + 1)}$.  "
   ]
  },
  {
   "cell_type": "markdown",
   "metadata": {},
   "source": [
    "$\\bullet$ 41### fine structure: $ \\mathit E_{n \\ell {\\mathbf j m_j}}$ = $ - \\frac{e^2}{2 \\mathbf a_0}$ $ \\frac{1}{\\mathbf n^2}$ $ (1 + \\frac{\\alpha^2}{\\mathbf n^2} [\\frac{\\mathbf n}{\\mathbf j + \\frac{1}{2}} - \\frac{3}{4}])$.   "
   ]
  },
  {
   "cell_type": "markdown",
   "metadata": {},
   "source": [
    "$\\bullet$ 42### density matrix: $ \\mathit E$ = $ [ (\\mathbf p_1, | \\psi_1 \\rangle), ..., ( \\mathit p_n, | \\psi_n \\rangle)]$, $ \\mathit p_1,...,\\mathit p_n$ > 0, $ p_1 +...+ p_n$ = 1,  \n",
    "$\\rho_\\mathit E$ $\\equiv$ $\\sum_{a = 1}^n$ $\\mathit p_a | \\psi_a \\rangle \\langle \\psi_a |$, $ \\langle \\hat{\\mathit Q \\rangle_\\mathit E}$ = tr $ (\\mathit Q_{\\rho_{\\mathit E}})$.  \n",
    "General $\\rho$ is positive semidefinite, and tr $\\rho$ = 1. Pure state $\\longleftrightarrow$ **tr** $\\rho^2$ = 1.  \n",
    "spin one-half density matrix: $\\rho$ = $ \\frac{1}{2} ( \\mathbb 1 + \\mathbf a \\cdot \\sigma)$, | $\\mathbf a |$ $\\leq$ 1.  "
   ]
  },
  {
   "cell_type": "markdown",
   "metadata": {},
   "source": [
    "$\\bullet$ 43### time evolution: $ i \\hbar \\frac{\\partial \\rho}{\\partial t}$ = $ [ \\hat{H}, \\rho]$.  "
   ]
  },
  {
   "cell_type": "markdown",
   "metadata": {},
   "source": [
    "$\\bullet$ 44### Schmidt decomposition: | $ \\psi AB \\rangle$ = $ \\sum_{k = 1}^r$ $ \\sqrt {\\mathit p_k}$ | $\\mathbf k_A \\rangle$ $\\otimes$ | $ \\mathit k_B \\rangle$, r $ \\leq$ $\\mathbf d_A$ $\\leq$ $\\mathbf d_B$,  \n",
    "$ \\rho_A$ = $ \\sum_{k =1}^r$ $ \\mathit p_k | \\mathit k_A \\rangle \\langle \\mathit k_A |$,  \n",
    "$ \\rho_B$ = $ \\sum_{k =1}^r$ $ \\mathit p_k | \\mathit k_B  \\rangle \\langle \\mathbf k_B |$, $\\langle k_A | k'_A \\rangle$ = $ \\delta_{k,k'}$, $ \\langle k_B | k'_B \\rangle$ = $ \\delta_{k,k'}$,  "
   ]
  },
  {
   "cell_type": "markdown",
   "metadata": {},
   "source": [
    "$\\bullet$ 45### Lindblad equation: $ \\frac{\\partial \\rho} {\\partial t}$ = $ \\frac{1} {i \\hbar}$ $[ \\mathbf H, \\rho ]$ + $ \\sum_k$ $( \\mathbf L_k \\rho \\mathbf L^\\dagger_k$ - $\\frac{1} {2}$ $[ \\mathbf L^\\dagger_k \\mathbf L_k, \\rho])$.                              "
   ]
  },
  {
   "cell_type": "markdown",
   "metadata": {},
   "source": [
    "$\\bullet$ 46### electromagnetic couplings: $ \\hat{H}$ = $ \\frac{1}{2m}(\\hat{\\mathbf p}) - \\frac{q}{c}$ $\\mathbf A$ $(\\hat{x}, t)^2$ + q $\\phi(\\hat{\\mathbf x, t})$ (no spin).   "
   ]
  },
  {
   "cell_type": "markdown",
   "metadata": {},
   "source": [
    "$\\bullet$ 47### gauge tranformations: $\\mathbf A'$ = $ \\mathbf A + \\nabla \\wedge$, $ \\phi'$ = $ \\phi$ - $\\frac{1}{c}$ $ \\frac{\\partial \\wedge}{\\partial {\\mathbf t}}$, $ \\Psi'$ = $ \\exp(i \\frac{q \\wedge}{\\hbar c})$ $\\Psi$.  "
   ]
  },
  {
   "cell_type": "markdown",
   "metadata": {},
   "source": [
    "$\\bullet$ 48### Pauli Hamiltonian (electron): $ \\hat{\\mathbf H}_{Pauli}$ = $ \\frac{1}{2m_e} (\\hat{\\mathbf p} + \\frac{e}{c} \\mathbf A)^2$ + $\\frac{e \\hbar}{2m_e c}$ $\\sigma$ $\\cdot$ $\\mathbf B$ - e $\\phi$ $(\\hat x,t)$.  "
   ]
  },
  {
   "cell_type": "markdown",
   "metadata": {},
   "source": [
    "$\\bullet$ 49### time-independent purtabation theory:  nondegenerate:$ |n \\rangle_\\lambda$ = $ | n^{(0)} \\rangle - \\lambda$ $ \\sum_{k \\neq n} \\frac{\\delta \\mathbf H_{kn}} {\\mathbf E^{(0)}_k - \\mathbf E^{(0)}_n}$ $ |k^{(0)} \\rangle$ + $ \\mathcal O (\\lambda^2)$,  \n",
    "$ E_n (\\lambda)$ = $ E^{(0)}_n$ + $ \\lambda \\delta \\mathbf H_{nm}$ - $\\lambda^2$ $\\sum_{k \\neq n} \\frac{ | \\delta \\mathbf H_{kn} |^2} {\\mathbf E^{(0)}_k - \\mathbf E^{(0)}_n}$ + $\\mathcal O (\\lambda^3)$.   "
   ]
  },
  {
   "cell_type": "markdown",
   "metadata": {},
   "source": [
    "$\\bullet$ 50### degeneracy lifted at $\\mathcal O (\\lambda)$: good basis: $ \\delta \\mathbf H_{\\mathcal ij}$ $\\equiv$ $ \\langle \\Psi^{(0)}_\\mathcal I | \\delta \\mathbf H | \\Psi^{(0)}_\\mathcal J \\rangle$ = $ \\mathbf E^{(1)}_\\mathcal {nJ}$ $ \\delta_\\mathcal {IJ}$,  \n",
    "$ | \\Psi_\\mathcal I \\rangle_\\lambda$ = $ | \\Psi^{(0)}_{\\mathcal I} \\rangle - \\lambda  ( \\sum_p \\frac{\\delta \\mathbf H_{p \\mathcal I}} {\\mathbf E^{(0)}_p - \\mathbf E^{(0)}_n} | \\mathbf p^{(0)} \\rangle + \\sum_{K \\neq \\mathcal I} \\frac{ | \\Psi^{(0)}_K \\rangle} {\\mathbf E^{(1)}_{n \\mathcal I} - \\mathbf E^{(0)}_{n \\mathcal K}} \\sum_p \\frac{ \\delta \\mathbf H_{\\mathcal K p} \\delta \\mathbf H_{pl}} {\\mathbf E^{(0)}_p - \\mathbf E^{(0)}_n})$ + $\\mathcal O (\\lambda^2)$,  \n",
    "$ \\mathbf E_{n \\mathcal I} (\\lambda)$ = $\\mathbf E^{(0)}_n + \\lambda \\delta \\mathbf H_{\\mathcal II} -\\lambda^2 \\sum_p \\frac{ | \\delta \\mathbf H_p \\mathcal I |^2}{\\mathbf E^{(0)}_p - \\mathbf E^{(0)}_n}$ + $\\mathcal O (\\lambda^3)$.  "
   ]
  },
  {
   "cell_type": "markdown",
   "metadata": {},
   "source": [
    "$\\bullet$ 51### WKB quantization with a, b turning points or hard walls:  \n",
    "$\\int_a^b k(x') dx'$ = $ (\\mathbf n + \\beta) \\pi$, $\\mathbf n$ = $0,1,2,...,$ $\\beta$ = $1 - \\frac{1}{4}$ (Number of turning points).  "
   ]
  },
  {
   "cell_type": "markdown",
   "metadata": {},
   "source": [
    "$\\bullet$ 52### time-dependent perturbations: $\\hat{\\mathbf H} (t)$ = $\\hat{\\mathbf H^{(0)}} + \\delta \\mathbf H (t)$, $ | \\Psi (t) \\rangle$ $\\equiv$ $e^{i \\hat{\\mathbf H}^{(0)} {t/ \\hbar}} | \\Psi (t) \\rangle$,  \n",
    "$ i \\hbar \\frac{ \\mathbf d}{\\mathbf dt} | {\\tilde \\Psi} (t) \\rangle$ = $ {\\tilde \\delta} \\mathbf H (t) | \\Psi (t) \\rangle$, $ \\delta \\mathbf H (t)$ $\\equiv$ $e^{i \\hat{\\mathbf H}^{(0)}{t/ \\hbar}} \\delta \\mathbf H (t) e^{- i \\hat{\\mathbf H^{(0)}} {t / \\hbar}}$,    \n",
    "$ | \\tilde \\Psi (t) \\rangle$ = $ | \\Psi(0) \\rangle + \\int_0^t \\frac{ \\delta \\mathbf H(t')} {i \\hbar} | \\Psi(0) \\rangle \\mathbf dt' + \\mathcal O( \\delta \\mathbf H^2)$.  "
   ]
  },
  {
   "cell_type": "markdown",
   "metadata": {},
   "source": [
    "$\\bullet$ 53### Fermis' golden rule: $\\hat{\\mathbf H}$ = $ \\hat{\\mathbf H^{(0)}}$ + V, $\\hat{\\mathbf H}$ = $\\hat{\\mathbf H^{(0)}} + 2 \\mathbf H' \\cos \\omega t$,  \n",
    "w = $ \\frac{2 \\pi}{\\hbar} | \\mathbf V_f |^2 \\rho(\\mathbf E_f)$, w = $ \\frac{2 \\pi}{\\hbar} | \\mathbf H'_f |2 \\rho(\\mathbf E_f)$,                                          "
   ]
  },
  {
   "cell_type": "markdown",
   "metadata": {},
   "source": [
    "$\\bullet$ 54### adiabatic approximation: $ | \\Psi(t) \\rangle$ $\\simeq$ $e^{i \\theta_k(t)} e^{i \\gamma_k(t)} | \\Psi_k(t) \\rangle$, $ \\hat{\\mathbf H} (t) | \\Psi_k(t) \\rangle$ = $ \\mathbf E_k(t) | \\Psi_k(t) \\rangle$,  \n",
    "$ \\theta_k(t)$ = $ -\\frac{1}{\\hbar} \\int_0^t \\mathbf E_k(\\mathbf t') {\\mathbf dt'}$,  $ \\gamma_k(t)$ = $ \\int_0^t \\nu_k(t') {\\mathbf dt'}$, $ \\nu_k(t)$ = $ i \\langle  \\Psi_k(\\mathbf t) | {\\dot \\Psi_k}(t) \\rangle$.  "
   ]
  },
  {
   "cell_type": "markdown",
   "metadata": {},
   "source": [
    "$\\bullet$ 55### Berrys' phase: $ \\gamma_n(\\Gamma_{if})$ = $ \\int_{\\Gamma if} \\mathbf A_n(\\mathbf R) \\cdot  d{\\mathbf R}$, $ \\mathbf A_n(\\mathbf R)$ $\\equiv$ $ i \\langle \\Psi_n(\\mathbf R) | \\nabla_{\\mathbf R} | \\Psi_n(\\mathbf R) \\rangle$.  "
   ]
  },
  {
   "cell_type": "markdown",
   "metadata": {},
   "source": [
    "$\\bullet$ 56### scattering on the half line: $ \\Psi(\\mathbf x)$ = $ e^{1 \\delta} \\sin(\\mathbf {kx} + \\delta)$, $ \\Psi_s(\\mathbf x)$ = $ e^{i \\delta} \\sin \\delta e^{ikx}$, $\\mathbf x$ > $ \\mathbf R$.   "
   ]
  },
  {
   "cell_type": "markdown",
   "metadata": {},
   "source": [
    "$\\bullet$ 57### time delay: $\\vartriangle t$ = $ 2\\hbar \\delta'( \\mathbf E_0)$.  "
   ]
  },
  {
   "cell_type": "markdown",
   "metadata": {},
   "source": [
    "$\\bullet$ 58### Levinsons' theorem: $ \\mathit N_b$ = $\\frac{1}{\\pi} ((\\delta)(0) - \\delta(\\infty))$.  "
   ]
  },
  {
   "cell_type": "markdown",
   "metadata": {},
   "source": [
    "$\\bullet$ 59### resonance, Breit-Wigner: $ | \\Psi_s |^2$ $\\simeq$ $\\frac{1/4 \\Gamma^2} {(\\mathbf E - \\mathbf E_\\alpha)^2 + \\frac{1}{4} \\Gamma^2}$.                                                                                                                          "
   ]
  },
  {
   "cell_type": "markdown",
   "metadata": {},
   "source": [
    "$\\bullet$ 60### scattering in 3D: $ \\Psi(\\mathbf r)$ = $ \\varphi(\\mathbf r) + \\Psi_s(\\mathbf r)$ $\\simeq$ $e^{ikz} + f_k(\\theta, \\phi)$ $ \\frac{e^{ikr}}{\\mathbf r}$, $\\mathbf r$ $\\gg$ a.  \n",
    "$ \\frac{d \\sigma}{d \\Omega}$ = $ |f_k(\\theta, \\phi) |^2$, $ \\sigma$ = $\\int |f_k(\\theta, \\phi)|^2 d \\Omega$.  "
   ]
  },
  {
   "cell_type": "markdown",
   "metadata": {},
   "source": [
    "$\\bullet$ 61### Rayleigh: $e^{ikz}$ = ${\\sqrt 4 \\pi} \\sum_{\\ell = 0}^\\infty {\\sqrt{2 \\ell + 1}}$ $i^\\ell \\mathbf Y_{\\ell 0}(\\theta) j_\\ell(kr)$.  "
   ]
  },
  {
   "cell_type": "markdown",
   "metadata": {},
   "source": [
    "$\\bullet$ 62### phase shifts: $f_k(\\theta)$ = $ \\frac{\\sqrt{4 \\pi}} {\\mathbf k} \\sum_{\\ell = 0}^\\infty {\\sqrt{2 \\ell + 1}} \\mathbf Y_{\\ell 0}( \\theta) e^{i \\delta_\\ell} \\sin \\delta_\\ell$, $ \\sigma$ = $ \\frac{4 \\pi}{\\mathbf k^2} \\sum_{\\ell = 0}^\\infty(2 \\ell + 1) \\sin^2 \\delta_\\ell$.  \n",
    "$ \\Psi(\\mathbf r) |_\\ell$ = $[\\mathbf A_\\ell \\mathbf j_\\ell \\mathbf(kr) + \\mathbf B_\\ell \\mathbf n_\\ell \\mathbf(kr)]$ $\\mathbf Y_{\\ell 0}(\\theta)$, $ \\mathbf r$ > $\\mathbf a$, $ \\tan \\delta_\\ell$ $\\equiv$  - $\\frac{\\mathbf B_\\ell}{\\mathbf A_\\ell}$.                                                                                                                         "
   ]
  },
  {
   "cell_type": "markdown",
   "metadata": {},
   "source": [
    "Professor Zweibach, while dicussing the properties of QM, asked the audience why they were laughing at humans' attempt to quantize gravity, as he also laughed. Life is laughter, while not keeping stuff simpler! No space/time for boredom!  \n",
    "<a id='plot'></a>  \n",
    "Noteable parsing practices: Certain nested fractions, and bottom underlining braces, not supported. Only on industrial software. The letters in bold are vectors! Notebook is parsing on jupyter notebook/lab,  and ipynb viewer(Android).  \n",
    "<a id='plot'></a>  \n",
    "These are notes/references, 1% functional code! QM(Quantum Mechanics), MP(Mathematical Physics), PHY(Physics), M(Mathematics), and PROG(Programming).  \n",
    "<a id='plot'></a>  \n"
   ]
  },
  {
   "cell_type": "markdown",
   "metadata": {},
   "source": [
    "Abstract Mathematics(models of inductive reasoning), is availed to avoid nonsensical answers, and bogus non-differentiable functions. This is the task for the human mind, to see this truth, and preserve it.\n",
    "<a id='plot'></a> \n",
    "\n",
    "                             ##REFERENCES:\n",
    "1. **Mastering Quantum Mechanics_Essentials, Theory, and Applications - Barton Zweibach_QM**\n",
    "2. **Quantum Mechanics - Leonard I. Schiff_QM**\n",
    "3. **Field Theory, Quantum Gravity and Strings(I and II) - H.J. de Vega and N. Sanchez_QM**\n",
    "4. **Atomic Structure and Spectral Lines - Arnold Sommerfeld_QM**\n",
    "5. **Wave Mechanics - Arnold Sommerfeld_QM**\n",
    "6. **Quantum Field Theory(Lectures of Sidney Coleman)_QM**\n",
    "7. **Notes from Sidney Colemans Physics 253a_QM**\n",
    "8. **Nature of Space and Time - Stephen Hawking and Roger Penrose_MP**\n",
    "9. **Quantum Mechanics - David Tong_QM**\n",
    "10. **Quantum Information and Computation - John Preskill_QM,PROG & M**\n",
    "11. **Superstring Theory - Micheal B. Green, John H. Schwarz, Edward Witten_QM**\n",
    "12. **Thomas Calculus - George B. Thomas_M**\n",
    "13. **Lectures on Quantum Mechanics - Steven Weinberg_QM**\n",
    "14. **Mathematical Foundations of Quantum Mechanics - John Von Neumann_QM & M**\n",
    "15. **A course on Modern Analysis(5th Edition) - E.T.Whittaker and G.N.Watson_M**\n",
    "16. **Quantum Computer Science - N.David Mermer_QM, M, PROG**\n",
    "17. **The Python 3 Standard Library by Example - Doug Hellmann_PROG**\n",
    "18. **The Annotated Turing - Charles Petzold_PROG**\n",
    "19. **Lectures on Quantum Theory - Frederic Schuller_QM**\n",
    "20. **Essential Calculus Skills practice Workbook with full solutions - Chris McMullen_M**\n",
    "21. **Speakable and Unspeakable in Quantum Mechanics - J.S.Bell_QM**\n",
    "22. **Introduction to Tensor Analysis and the Calculus of Moving Surfaces - Pavel Grinfeld_QM & M**\n",
    "23. **Quantum Mechanics(vol I and II) - Albert Messiah_QM**\n",
    "24. **Lecture notes for Linear Algebra - Terrence Tao_M**\n",
    "25. **Black Holes - Brian Cox and Jeff Forshaw_QM**\n",
    "26. **Introduction to algorithms - Thomas H. Cormen, Charles E. Leiserson, Ronal L. Rivest and Clifford Stein_M**\n",
    "27. **Algebraic Number Theory, A Computational Approach - William Stein_M**\n",
    "28. **Feynman lectures on physics(volume I,II and III)_PHY**\n",
    "29. **A Guide to Feynman Diagrams in the Many-Body Problem - Richard Mattuck_QM**\n",
    "30. **Handbook of Physics - B.M.Yavorsky_PHY**\n",
    "31. **Introduction to the theory of quantised fields - N.N. Bogoliubov_QM**\n",
    "32. **Fundamentals of Physics - David Halliday, Robert Resnick and Jearl Walker_PHY**\n",
    "33. **Ohanian Physics(vol I and II)_second edition - Hans C. Ohanian_PHY**\n",
    "34. **Applied Partial Differential Equations, with Fourier series and Boundary Value Problems - Richard Haberman_M**\n",
    "35. **Introduction to Calculus and Analysis(Volume I and II) - Richard Courant_M**\n",
    "36. **S-Matrix Theory of Strong Interactions - Geoffrey F. Chew_QM**\n",
    "37. **Engineering Physics - Shatendra Sharma and Jyotsna Sharma_PHY**\n",
    "38. **Introduction to Linear Algebra(Fifth edition) - Gilbert Strang_M**\n",
    "39. **Calculus(Volume I, II and III) - Edwin Herman and Gilbert Strang_M**\n",
    "40. **Advanced Quantum Mechanics - Freeman Dyson_QM**\n",
    "41. **The Mathematical Principles of Natural Philosophy(translated by Motte) - Isaac Newton_M**\n",
    "42. **Lost in Math - Sabine Hossenfelder_PHY**\n",
    "43. **Differential and integral calculus(Volume I and II) - N. Piskunov_M**\n",
    "44. **Mathematical Methods in the Physical Sciences - Mary L. Boas_M**\n",
    "45. **Relativivitic quantum mechanics and relativistic quantum fields - James D. Bjorken and Sidney D. Drell_QM**\n",
    "46. **A course of modern analysis - E.T.Whittaker and G.N.Watson_M**\n",
    "47. **CRC Standard Mathematical Tables and Formulae - Daniel Zwillinger_M**\n",
    "48. **Introductory Mathematics for Engineers - A.D.Myskis_M**\n",
    "49. **Methods of modern physics(volume I II III IV - Michael Reed and Barry Simon_PHY**\n",
    "50. **Principles of Quantum Mechanics(2nd Edition) - R. Shankar_QM**\n",
    "60. **Singularity theory and gravitation lensing - Arlie O. Peters, Harold Levine and Joachim Wambsganss_QM**\n",
    "61. **Orthogonal Functions(translated by Ainsley H. Diamond_M**\n",
    "62. **Algorthms and Discreet Applied Mathematics_PROG & M**\n",
    "63. **Gravitational N-Body Simulatioms_Tools and Algorithms - Sverre J. Aarseth_QM**\n",
    "64. **Mathematical computation with SageMath - Paul Zimmermann_PROG & M**\n",
    "65. **Classical and Quantum Computation - A.Yu Kitaev_PROG & M**\n",
    "66. **Discrete Mathematics and its Application(8th Edition) - Kenneth H. Rosen_M**\n",
    "67. **Masters of Theory - Andrew Warwick_M**\n",
    "68. **Graduate texts in Mathematics - Serge Lang_M**\n",
    "79. **The Mathematical Theory of Blackholes - S. Chandrasekhar_M & PHY**\n",
    "70. **Modern Quantum Mechanics - J.J.Sakurai_QM**\n",
    "71. **History of functional analysis - Jean Dieudonne_M**\n",
    "72. **Planck 201 results V. CMB Power Spectra and likelihoods_QM**\n",
    "73. **Einsteins' gravity in a nutshell - A. Zee_QM**\n",
    "74. **Aspects of Symmetry - Sidney Coleman_QM**\n",
    "75. **Quantum Gravity Partition Functions In Three Dimensions - Alexander Maloney and Edward Witten_QM**\n",
    "76. **Essential Calculus-based Physics study guide workbook - Chris McMullen_M**\n",
    "77. **A Course in computational algebraic number theory - Cohen H._M**\n",
    "78. **Theories of Gravity - Robert M. Wald and Andreas Zoupas_QM**\n",
    "78. **A first course in String Theory - Barton Zweibach_QM**\n",
    "79. **Relativity_The Special and General Theory - Albert Einstein_QM**\n",
    "80. **Fundamentals of Physics - R. Shankar_PHY**\n",
    "81. **Calculus(10th Edition) - Anton Bivens Davis_M**\n",
    "82. **Differential Equations for Engineers - Jeffrey R. Chasnov_M**\n",
    "83. **A First Course in Linear Algebra - Robert A. Beezer_M**\n",
    "84. **Can Quantum-Mechanical Description of Physical Reality be considered Complete? - A.Einstein, B.Podolsky and N.Rosen_QM**\n",
    "85. **An introductory course on Sage - Sasskia Roos and Michael Jung_PROG & M**\n",
    "86. **NIST Handbook 0f Mathematical Functions - Olver, Lozier, Bisvert and Clark_M**\n",
    "87. **Physics_For Scientists and Engineers(second Edition)_A Strategic Approach - Randall D. Knight_PHY**\n",
    "88. **The Calculus Lifesaver - Adrian Banner_M**\n",
    "89. **Algorithmic Thinking(2nd Edition) - Daniel Zingaro_PROG**\n",
    "90. **Algorithms for programmers_ideas and source code - Jorg Arndt_PROG & M**\n",
    "91. **Principles of digital communication and coding - Andrew Viterbi and Jim K. Omura_PROG**\n",
    "92. **Quantum Mechanics(Volume I and II) - Claude Cohen-Tannoudji, Bernard Diu and Franck Laloe_QM**\n",
    "93. **Machine vision_Lecture notes - Berthold Horn, Ryan Sander  and Tadayuki Yoshitake_M**\n",
    "94. **Introduction to Quantum Mechanics - David J. Griffiths and Darrell F. Schroeter_QM**\n",
    "95. **Hyperbolic Differential Equations - Jean Leray_M**\n",
    "96. **Theory of Orbits_The restricted problem of three bodies - Victor Szebehely_QM**\n",
    "97. **Quantum Theory, Groups and Representations_An introduction - Peter Woit_QM & M**\n",
    "98. **Numbers and Functions - R.P.Burn_M**\n",
    "99. **Python Library Reference_Release 2.1.1 - Guido  van Rossum, Fred L. Drake Jr_PROG**\n",
    "100. **The Algorithm Design Manual - Steven S. Skiena_PROG**\n",
    "101. **A Discipline of Programming - Edsger W. Dijkstra_PROG**\n",
    "102. **The Art of Computer Programming - Donald E. Knuth_PROG**\n",
    "103. **Differential Topology - John Willard Milnor_M** \n",
    "104. **The principle of relativity - H.A.Lorentz, A.Einstein, H. Minkowskiski, and H.Weyl_MP**\n",
    "105. **General Theory of Relativity - P.A.M Dirac_QM**\n",
    "106. **Mastering matplotlib - Duncan M. Mcgeggor_PROG**\n",
    "107. **Stastical Rethinking - Richard McElreath_M & PROG**\n",
    "108. **Neural Networks and Learning Machines - Simon Haykin_M & PROG**\n",
    "109. **100 instructive-based Physics Examples_Volumes I,II, and III - Chris McMullen_MP**\n",
    "110. **Introduction to Analytic Number Theory - Tom Apostol_M**\n",
    "111. **Modular functions and Dirichlet Series in Number Theory - Tom M. Apostol_M**"
   ]
  },
  {
   "cell_type": "markdown",
   "metadata": {},
   "source": [
    "$L^\\angle$"
   ]
  },
  {
   "cell_type": "markdown",
   "metadata": {},
   "source": [
    "$\\langle \\psi_n \\lambda$, $\\frac{d \\hat{H}(\\lambda)} {d \\lambda}$ $\\psi_n$  $\\lambda$ $\\rangle$"
   ]
  },
  {
   "cell_type": "markdown",
   "metadata": {},
   "source": [
    "$ V $ = $ range $ $P_u$ $\\oplus$ $ null $ $P_u$"
   ]
  },
  {
   "cell_type": "markdown",
   "metadata": {},
   "source": [
    "**p** p"
   ]
  },
  {
   "cell_type": "markdown",
   "metadata": {},
   "source": [
    "$\\hat{\\mathbf a}$ $\\hat{b}$ **a** "
   ]
  },
  {
   "cell_type": "markdown",
   "metadata": {},
   "source": [
    "$\\hat{P}$"
   ]
  },
  {
   "cell_type": "markdown",
   "metadata": {},
   "source": [
    "$\\sum_p$"
   ]
  },
  {
   "cell_type": "markdown",
   "metadata": {},
   "source": [
    "$ \\frac{4260, \\frac{\\text{min}}{\\text{year}}} {60}$"
   ]
  },
  {
   "cell_type": "markdown",
   "metadata": {},
   "source": [
    "$ \\frac{1/4 \\Gamma^2} {(\\mathbf E - \\mathbf E_\\alpha)2 + \\frac{1}{4} \\Gamma^2}$"
   ]
  },
  {
   "cell_type": "markdown",
   "metadata": {},
   "source": [
    "V $\\nu$ v"
   ]
  },
  {
   "cell_type": "markdown",
   "metadata": {},
   "source": [
    "$ (\\cos \\theta - \\cos \\theta')$"
   ]
  },
  {
   "cell_type": "markdown",
   "metadata": {},
   "source": [
    "$ \\dot \\psi$"
   ]
  },
  {
   "cell_type": "markdown",
   "metadata": {},
   "source": [
    "$ \\tilde \\psi$"
   ]
  }
 ],
 "metadata": {
  "kernelspec": {
   "display_name": "Python 3 (ipykernel)",
   "language": "python",
   "name": "python3"
  },
  "language_info": {
   "codemirror_mode": {
    "name": "ipython",
    "version": 3
   },
   "file_extension": ".py",
   "mimetype": "text/x-python",
   "name": "python",
   "nbconvert_exporter": "python",
   "pygments_lexer": "ipython3",
   "version": "3.12.3"
  }
 },
 "nbformat": 4,
 "nbformat_minor": 4
}
